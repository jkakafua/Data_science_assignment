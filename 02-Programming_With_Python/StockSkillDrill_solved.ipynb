{
 "cells": [
  {
   "cell_type": "code",
   "execution_count": 1,
   "metadata": {},
   "outputs": [],
   "source": [
    "# Import the 'os' and 'csv' libraries\n",
    "import os\n",
    "import csv \n"
   ]
  },
  {
   "cell_type": "code",
   "execution_count": 2,
   "metadata": {},
   "outputs": [
    {
     "data": {
      "text/plain": [
       "'..\\\\Resources\\\\yahoo_stock.csv'"
      ]
     },
     "execution_count": 2,
     "metadata": {},
     "output_type": "execute_result"
    }
   ],
   "source": [
    "# Set path for importing our CSV file\n",
    "filepath = os.path.join(\"..\",\"Resources\",\"yahoo_stock.csv\")\n",
    "filepath"
   ]
  },
  {
   "cell_type": "code",
   "execution_count": 3,
   "metadata": {},
   "outputs": [
    {
     "name": "stdout",
     "output_type": "stream",
     "text": [
      "The highest daily percent change was 5.49% and this occurred on 3/13/2020 with high stock and low stock being 2711.330078 and 2492.370117 respectively\n"
     ]
    }
   ],
   "source": [
    "# Open a connection to the comma-delimited csv file \n",
    "with open(filepath,'r') as csv_file:\n",
    "    result = csv.DictReader(csv_file)\n",
    "    # Read in the CSV file using csv.DictReader() class\n",
    "\n",
    "    \n",
    "    # Create a variable to save our print row and greatest daily percent change\n",
    "    printrow = {}\n",
    "    max_pct =0\n",
    "    # Iterate through each row\n",
    "    for row in result:\n",
    "        pct= ((float(row[\"Close\"])-float(row[\"Open\"]))/float(row[\"Open\"])) *100\n",
    "        pct_2=round(pct, 2)\n",
    "        \n",
    "        \n",
    "        if abs(pct_2) > max_pct:\n",
    "            max_pct = pct_2\n",
    "            printrow = row\n",
    "               \n",
    "        \n",
    "        # For each row, calculate the daily percent change\n",
    "        \n",
    "        # Check if the absolute daily percent change is greater than the previous max\n",
    "           \n",
    "            # If true, store new greatest daily percent change and print row\n",
    "            \n",
    "    # Print out the date, stock high, stock low, volume and percent change for the day with the greatest percent change\n",
    "print(f\"The highest daily percent change was {max_pct}% and this occurred on {printrow['Date']} with high stock and low stock being {printrow['High']} and {printrow['Low']} respectively\")"
   ]
  },
  {
   "cell_type": "code",
   "execution_count": null,
   "metadata": {},
   "outputs": [],
   "source": []
  }
 ],
 "metadata": {
  "kernelspec": {
   "display_name": "Python 3",
   "language": "python",
   "name": "python3"
  },
  "language_info": {
   "codemirror_mode": {
    "name": "ipython",
    "version": 3
   },
   "file_extension": ".py",
   "mimetype": "text/x-python",
   "name": "python",
   "nbconvert_exporter": "python",
   "pygments_lexer": "ipython3",
   "version": "3.8.5"
  }
 },
 "nbformat": 4,
 "nbformat_minor": 4
}
